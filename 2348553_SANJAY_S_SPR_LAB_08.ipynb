{
  "nbformat": 4,
  "nbformat_minor": 0,
  "metadata": {
    "colab": {
      "provenance": [],
      "authorship_tag": "ABX9TyP7/VcJ/ie26cTri6wXdZWy",
      "include_colab_link": true
    },
    "kernelspec": {
      "name": "python3",
      "display_name": "Python 3"
    },
    "language_info": {
      "name": "python"
    }
  },
  "cells": [
    {
      "cell_type": "markdown",
      "metadata": {
        "id": "view-in-github",
        "colab_type": "text"
      },
      "source": [
        "<a href=\"https://colab.research.google.com/github/SanjayS2348553/Speech_Processing/blob/main/2348553_SANJAY_S_SPR_LAB_08.ipynb\" target=\"_parent\"><img src=\"https://colab.research.google.com/assets/colab-badge.svg\" alt=\"Open In Colab\"/></a>"
      ]
    },
    {
      "cell_type": "markdown",
      "source": [
        "Define the Model Parameters"
      ],
      "metadata": {
        "id": "vjrS_QB4OPB4"
      }
    },
    {
      "cell_type": "code",
      "execution_count": 1,
      "metadata": {
        "id": "IcntbC5i_05v"
      },
      "outputs": [],
      "source": [
        "import numpy as np\n",
        "\n",
        "# Define the phonemes (states)\n",
        "states = ['h', 'e', 'l', 'o']\n",
        "\n",
        "# Transition Probability Matrix (A)\n",
        "A = np.array([[0.0, 0.7, 0.3, 0.0],\n",
        "              [0.0, 0.2, 0.6, 0.2],\n",
        "              [0.0, 0.0, 0.3, 0.7],\n",
        "              [0.0, 0.0, 0.1, 0.9]])\n",
        "\n",
        "# Emission Probability Matrix (B)\n",
        "B = np.array([[0.6, 0.2, 0.1, 0.1],  # /h/\n",
        "              [0.1, 0.7, 0.1, 0.1],  # /e/\n",
        "              [0.1, 0.1, 0.6, 0.2],  # /l/\n",
        "              [0.2, 0.1, 0.2, 0.5]]) # /o/\n",
        "\n",
        "# Initial Probabilities (π)\n",
        "pi = np.array([1.0, 0.0, 0.0, 0.0])  # P(S1 (/h/))=1, P(S2 (/e/))=0, ...\n",
        "\n",
        "# Observation Sequence (O)\n",
        "observations = ['O1', 'O2', 'O3', 'O4']  # This corresponds to /h/, /e/, /l/, /o/\n",
        "\n"
      ]
    },
    {
      "cell_type": "markdown",
      "source": [
        "Map Observations to Indices"
      ],
      "metadata": {
        "id": "OZsCXHFOOSxi"
      }
    },
    {
      "cell_type": "code",
      "source": [
        "# Map observations to index\n",
        "observation_index = {\n",
        "    'O1': 0,\n",
        "    'O2': 1,\n",
        "    'O3': 2,\n",
        "    'O4': 3\n",
        "}\n",
        "\n",
        "# Get the index of the observations\n",
        "obs_seq = [observation_index[o] for o in observations]\n",
        "obs_seq\n"
      ],
      "metadata": {
        "colab": {
          "base_uri": "https://localhost:8080/"
        },
        "id": "VfcEg0W6OSez",
        "outputId": "4949bcb1-6e42-49d9-d632-1976cf860143"
      },
      "execution_count": 2,
      "outputs": [
        {
          "output_type": "execute_result",
          "data": {
            "text/plain": [
              "[0, 1, 2, 3]"
            ]
          },
          "metadata": {},
          "execution_count": 2
        }
      ]
    },
    {
      "cell_type": "markdown",
      "source": [
        "Implement the Viterbi Algorithm"
      ],
      "metadata": {
        "id": "bJtn-ltfOaYZ"
      }
    },
    {
      "cell_type": "code",
      "source": [
        "def viterbi(obs_seq, states, A, B, pi):\n",
        "    num_states = len(states)\n",
        "    num_observations = len(obs_seq)\n",
        "\n",
        "    # Initialize the Viterbi and backpointer matrices\n",
        "    viterbi = np.zeros((num_states, num_observations))\n",
        "    backpointer = np.zeros((num_states, num_observations), dtype=int)\n",
        "\n",
        "    # Initialization step\n",
        "    for s in range(num_states):\n",
        "        viterbi[s, 0] = pi[s] * B[s, obs_seq[0]]\n",
        "\n",
        "    # Recursion step\n",
        "    for t in range(1, num_observations):\n",
        "        for s in range(num_states):\n",
        "            transition_probs = [viterbi[s_prev, t - 1] * A[s_prev, s] for s_prev in range(num_states)]\n",
        "            max_prob = max(transition_probs)\n",
        "            backpointer[s, t] = np.argmax(transition_probs)\n",
        "            viterbi[s, t] = max_prob * B[s, obs_seq[t]]\n",
        "\n",
        "    # Termination step\n",
        "    best_path_prob = max(viterbi[:, num_observations - 1])\n",
        "    best_last_state = np.argmax(viterbi[:, num_observations - 1])\n",
        "\n",
        "    # Backtrack to find the best path\n",
        "    best_path = [0] * num_observations\n",
        "    best_path[-1] = best_last_state\n",
        "\n",
        "    for t in range(num_observations - 2, -1, -1):\n",
        "        best_path[t] = backpointer[best_path[t + 1], t + 1]\n",
        "\n",
        "    return best_path, best_path_prob\n"
      ],
      "metadata": {
        "id": "9FgchORCObiW"
      },
      "execution_count": 3,
      "outputs": []
    },
    {
      "cell_type": "markdown",
      "source": [
        "Run the Viterbi Algorithm"
      ],
      "metadata": {
        "id": "JfMkYqkROaDa"
      }
    },
    {
      "cell_type": "code",
      "source": [
        "# Execute the Viterbi algorithm\n",
        "best_path, best_path_prob = viterbi(obs_seq, states, A, B, pi)\n",
        "\n",
        "# Map state indices back to phonemes\n",
        "phoneme_sequence = [states[state] for state in best_path]\n",
        "\n",
        "# Print results\n",
        "print(\"The most likely sequence of phoneme states:\", phoneme_sequence)\n",
        "print(\"The probability of the most likely sequence:\", best_path_prob)\n"
      ],
      "metadata": {
        "colab": {
          "base_uri": "https://localhost:8080/"
        },
        "id": "YXv2nK9QOkVC",
        "outputId": "1507325c-e4a4-416a-eacb-394c97312407"
      },
      "execution_count": 4,
      "outputs": [
        {
          "output_type": "stream",
          "name": "stdout",
          "text": [
            "The most likely sequence of phoneme states: ['h', 'e', 'l', 'o']\n",
            "The probability of the most likely sequence: 0.03704399999999999\n"
          ]
        }
      ]
    }
  ]
}