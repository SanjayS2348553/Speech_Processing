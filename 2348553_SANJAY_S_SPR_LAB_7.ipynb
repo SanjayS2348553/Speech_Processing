{
  "nbformat": 4,
  "nbformat_minor": 0,
  "metadata": {
    "colab": {
      "provenance": [],
      "authorship_tag": "ABX9TyMadS14V0xZ/Z5J960/Flkt",
      "include_colab_link": true
    },
    "kernelspec": {
      "name": "python3",
      "display_name": "Python 3"
    },
    "language_info": {
      "name": "python"
    }
  },
  "cells": [
    {
      "cell_type": "markdown",
      "metadata": {
        "id": "view-in-github",
        "colab_type": "text"
      },
      "source": [
        "<a href=\"https://colab.research.google.com/github/SanjayS2348553/Speech_Processing/blob/main/2348553_SANJAY_S_SPR_LAB_7.ipynb\" target=\"_parent\"><img src=\"https://colab.research.google.com/assets/colab-badge.svg\" alt=\"Open In Colab\"/></a>"
      ]
    },
    {
      "cell_type": "markdown",
      "source": [
        " Representing the HMM Parameters"
      ],
      "metadata": {
        "id": "6HQ_OJB4Iuyj"
      }
    },
    {
      "cell_type": "code",
      "execution_count": 1,
      "metadata": {
        "id": "toJrOovzIh3X"
      },
      "outputs": [],
      "source": [
        "# Step 1: Define HMM parameters\n",
        "\n",
        "# Initial probabilities\n",
        "initial_probabilities = {\n",
        "    '/s/': 1.0,\n",
        "    '/p/': 0.0,\n",
        "    '/ie:/': 0.0,\n",
        "    '/tS/': 0.0\n",
        "}\n",
        "\n",
        "# Transition probabilities\n",
        "transition_probabilities = {\n",
        "    '/s/': {'/s/': 0.1, '/p/': 0.8, '/ie:/': 0.1, '/tS/': 0.0},\n",
        "    '/p/': {'/s/': 0.0, '/p/': 0.1, '/ie:/': 0.8, '/tS/': 0.1},\n",
        "    '/ie:/': {'/s/': 0.0, '/p/': 0.0, '/ie:/': 0.2, '/tS/': 0.8},\n",
        "    '/tS/': {'/s/': 0.2, '/p/': 0.0, '/ie:/': 0.0, '/tS/': 0.8}\n",
        "}\n",
        "\n",
        "# Emission probabilities\n",
        "emission_probabilities = {\n",
        "    '/s/': {'Energy': 0.7, 'Pitch': 0.2, 'Duration': 0.1},\n",
        "    '/p/': {'Energy': 0.5, 'Pitch': 0.3, 'Duration': 0.2},\n",
        "    '/ie:/': {'Energy': 0.3, 'Pitch': 0.5, 'Duration': 0.2},\n",
        "    '/tS/': {'Energy': 0.4, 'Pitch': 0.4, 'Duration': 0.2}\n",
        "}\n"
      ]
    },
    {
      "cell_type": "markdown",
      "source": [
        " Display the Transition and Emission Matrices"
      ],
      "metadata": {
        "id": "p6-SEbHXIyTo"
      }
    },
    {
      "cell_type": "code",
      "source": [
        "# Step 2: Function to display matrices\n",
        "def display_hmm_parameters():\n",
        "    print(\"Initial Probabilities:\")\n",
        "    for phoneme, prob in initial_probabilities.items():\n",
        "        print(f\"{phoneme}: {prob}\")\n",
        "\n",
        "    print(\"\\nTransition Probabilities:\")\n",
        "    for from_phoneme, transitions in transition_probabilities.items():\n",
        "        print(f\"{from_phoneme}: {transitions}\")\n",
        "\n",
        "    print(\"\\nEmission Probabilities:\")\n",
        "    for phoneme, emissions in emission_probabilities.items():\n",
        "        print(f\"{phoneme}: {emissions}\")\n",
        "\n",
        "# Display the HMM parameters\n",
        "display_hmm_parameters()\n"
      ],
      "metadata": {
        "colab": {
          "base_uri": "https://localhost:8080/"
        },
        "id": "aCMU33vWI1F0",
        "outputId": "66b6ffeb-5e38-4b0a-ec6b-d12f62c64839"
      },
      "execution_count": 2,
      "outputs": [
        {
          "output_type": "stream",
          "name": "stdout",
          "text": [
            "Initial Probabilities:\n",
            "/s/: 1.0\n",
            "/p/: 0.0\n",
            "/ie:/: 0.0\n",
            "/tS/: 0.0\n",
            "\n",
            "Transition Probabilities:\n",
            "/s/: {'/s/': 0.1, '/p/': 0.8, '/ie:/': 0.1, '/tS/': 0.0}\n",
            "/p/: {'/s/': 0.0, '/p/': 0.1, '/ie:/': 0.8, '/tS/': 0.1}\n",
            "/ie:/: {'/s/': 0.0, '/p/': 0.0, '/ie:/': 0.2, '/tS/': 0.8}\n",
            "/tS/: {'/s/': 0.2, '/p/': 0.0, '/ie:/': 0.0, '/tS/': 0.8}\n",
            "\n",
            "Emission Probabilities:\n",
            "/s/: {'Energy': 0.7, 'Pitch': 0.2, 'Duration': 0.1}\n",
            "/p/: {'Energy': 0.5, 'Pitch': 0.3, 'Duration': 0.2}\n",
            "/ie:/: {'Energy': 0.3, 'Pitch': 0.5, 'Duration': 0.2}\n",
            "/tS/: {'Energy': 0.4, 'Pitch': 0.4, 'Duration': 0.2}\n"
          ]
        }
      ]
    },
    {
      "cell_type": "markdown",
      "source": [
        "Generate a Sequence of Phonemes and Observations"
      ],
      "metadata": {
        "id": "xPOGF0fEI3-a"
      }
    },
    {
      "cell_type": "code",
      "source": [
        "import random\n",
        "\n",
        "# Step 3: Generate phoneme and observation sequence\n",
        "def generate_sequence(num_steps=10):\n",
        "    phonemes = list(initial_probabilities.keys())\n",
        "    current_phoneme = '/s/'  # Start with /s/\n",
        "    phoneme_sequence = [current_phoneme]\n",
        "    observation_sequence = []\n",
        "\n",
        "    for _ in range(num_steps - 1):  # Generate the sequence\n",
        "        # Transition to the next phoneme\n",
        "        next_phoneme = random.choices(\n",
        "            phonemes,\n",
        "            weights=[transition_probabilities[current_phoneme][p] for p in phonemes]\n",
        "        )[0]\n",
        "        phoneme_sequence.append(next_phoneme)\n",
        "        current_phoneme = next_phoneme\n",
        "\n",
        "        # Generate an observation for the current phoneme\n",
        "        observation = random.choices(\n",
        "            list(emission_probabilities[current_phoneme].keys()),\n",
        "            weights=list(emission_probabilities[current_phoneme].values())\n",
        "        )[0]\n",
        "        observation_sequence.append(observation)\n",
        "\n",
        "    return phoneme_sequence, observation_sequence\n",
        "\n",
        "# Generate a sequence\n",
        "phoneme_seq, obs_seq = generate_sequence()\n",
        "print(\"Generated Phoneme Sequence:\", phoneme_seq)\n",
        "print(\"Generated Observation Sequence:\", obs_seq)\n"
      ],
      "metadata": {
        "colab": {
          "base_uri": "https://localhost:8080/"
        },
        "id": "ORuIBcu2I7HT",
        "outputId": "ef4dd62c-e9aa-4884-9542-d2136367d218"
      },
      "execution_count": 3,
      "outputs": [
        {
          "output_type": "stream",
          "name": "stdout",
          "text": [
            "Generated Phoneme Sequence: ['/s/', '/p/', '/ie:/', '/tS/', '/s/', '/p/', '/ie:/', '/tS/', '/tS/', '/tS/']\n",
            "Generated Observation Sequence: ['Energy', 'Energy', 'Pitch', 'Energy', 'Pitch', 'Energy', 'Duration', 'Energy', 'Energy']\n"
          ]
        }
      ]
    },
    {
      "cell_type": "markdown",
      "source": [
        "**Inference**\n",
        "\n",
        "The implemented Hidden Markov Model (HMM) successfully simulates the phoneme transitions for the word \"speech\" based on predefined transition and emission probabilities. The phoneme sequence represents the probabilistic transitions between the hidden states (/s/, /p/, /ie:/, /tS/), while the corresponding acoustic observations (e.g., energy, pitch, duration) are generated based on the emission probabilities. This demonstrates how an HMM models speech processing by capturing the relationships between phonemes and their measurable acoustic properties, enabling a structured approach to speech recognition."
      ],
      "metadata": {
        "id": "pbzluH1jJATH"
      }
    }
  ]
}